{
 "cells": [
  {
   "cell_type": "code",
   "execution_count": 41,
   "metadata": {},
   "outputs": [],
   "source": [
    "import tushare as ts\n",
    "import numpy as np\n",
    "\n",
    "ts.set_token('1411e2689291aa71e3d1105f4203b9103c8060e02ac5ff6d1e6e2485')"
   ]
  },
  {
   "cell_type": "code",
   "execution_count": 2,
   "metadata": {},
   "outputs": [],
   "source": [
    "pro = ts.pro_api()"
   ]
  },
  {
   "cell_type": "code",
   "execution_count": 3,
   "metadata": {},
   "outputs": [],
   "source": [
    "df = pro.trade_cal(exchange='', start_date='20180901', end_date='20181001', fields='exchange,cal_date,is_open,pretrade_date', is_open='0')"
   ]
  },
  {
   "cell_type": "code",
   "execution_count": 7,
   "metadata": {},
   "outputs": [],
   "source": [
    "stock_list = pro.stock_basic(market=\"主板\")"
   ]
  },
  {
   "cell_type": "code",
   "execution_count": 11,
   "metadata": {},
   "outputs": [
    {
     "data": {
      "text/plain": [
       "array(['000001', '000002', '000004', ..., '605589', '605598', '605599'],\n",
       "      dtype=object)"
      ]
     },
     "execution_count": 11,
     "metadata": {},
     "output_type": "execute_result"
    }
   ],
   "source": [
    "stock_list[\"symbol\"].values"
   ]
  },
  {
   "cell_type": "code",
   "execution_count": 12,
   "metadata": {},
   "outputs": [
    {
     "data": {
      "text/html": [
       "<div>\n",
       "<style scoped>\n",
       "    .dataframe tbody tr th:only-of-type {\n",
       "        vertical-align: middle;\n",
       "    }\n",
       "\n",
       "    .dataframe tbody tr th {\n",
       "        vertical-align: top;\n",
       "    }\n",
       "\n",
       "    .dataframe thead th {\n",
       "        text-align: right;\n",
       "    }\n",
       "</style>\n",
       "<table border=\"1\" class=\"dataframe\">\n",
       "  <thead>\n",
       "    <tr style=\"text-align: right;\">\n",
       "      <th></th>\n",
       "      <th>ts_code</th>\n",
       "      <th>symbol</th>\n",
       "      <th>name</th>\n",
       "      <th>area</th>\n",
       "      <th>industry</th>\n",
       "      <th>market</th>\n",
       "      <th>list_date</th>\n",
       "    </tr>\n",
       "  </thead>\n",
       "  <tbody>\n",
       "    <tr>\n",
       "      <th>0</th>\n",
       "      <td>000001.SZ</td>\n",
       "      <td>000001</td>\n",
       "      <td>平安银行</td>\n",
       "      <td>深圳</td>\n",
       "      <td>银行</td>\n",
       "      <td>主板</td>\n",
       "      <td>19910403</td>\n",
       "    </tr>\n",
       "    <tr>\n",
       "      <th>1</th>\n",
       "      <td>000002.SZ</td>\n",
       "      <td>000002</td>\n",
       "      <td>万科A</td>\n",
       "      <td>深圳</td>\n",
       "      <td>全国地产</td>\n",
       "      <td>主板</td>\n",
       "      <td>19910129</td>\n",
       "    </tr>\n",
       "    <tr>\n",
       "      <th>2</th>\n",
       "      <td>000004.SZ</td>\n",
       "      <td>000004</td>\n",
       "      <td>ST国华</td>\n",
       "      <td>深圳</td>\n",
       "      <td>软件服务</td>\n",
       "      <td>主板</td>\n",
       "      <td>19910114</td>\n",
       "    </tr>\n",
       "    <tr>\n",
       "      <th>3</th>\n",
       "      <td>000005.SZ</td>\n",
       "      <td>000005</td>\n",
       "      <td>ST星源</td>\n",
       "      <td>深圳</td>\n",
       "      <td>环境保护</td>\n",
       "      <td>主板</td>\n",
       "      <td>19901210</td>\n",
       "    </tr>\n",
       "    <tr>\n",
       "      <th>4</th>\n",
       "      <td>000006.SZ</td>\n",
       "      <td>000006</td>\n",
       "      <td>深振业A</td>\n",
       "      <td>深圳</td>\n",
       "      <td>区域地产</td>\n",
       "      <td>主板</td>\n",
       "      <td>19920427</td>\n",
       "    </tr>\n",
       "    <tr>\n",
       "      <th>...</th>\n",
       "      <td>...</td>\n",
       "      <td>...</td>\n",
       "      <td>...</td>\n",
       "      <td>...</td>\n",
       "      <td>...</td>\n",
       "      <td>...</td>\n",
       "      <td>...</td>\n",
       "    </tr>\n",
       "    <tr>\n",
       "      <th>2144</th>\n",
       "      <td>605580.SH</td>\n",
       "      <td>605580</td>\n",
       "      <td>恒盛能源</td>\n",
       "      <td>浙江</td>\n",
       "      <td>供气供热</td>\n",
       "      <td>主板</td>\n",
       "      <td>20210819</td>\n",
       "    </tr>\n",
       "    <tr>\n",
       "      <th>2145</th>\n",
       "      <td>605588.SH</td>\n",
       "      <td>605588</td>\n",
       "      <td>冠石科技</td>\n",
       "      <td>江苏</td>\n",
       "      <td>半导体</td>\n",
       "      <td>主板</td>\n",
       "      <td>20210812</td>\n",
       "    </tr>\n",
       "    <tr>\n",
       "      <th>2146</th>\n",
       "      <td>605589.SH</td>\n",
       "      <td>605589</td>\n",
       "      <td>圣泉集团</td>\n",
       "      <td>山东</td>\n",
       "      <td>化工原料</td>\n",
       "      <td>主板</td>\n",
       "      <td>20210810</td>\n",
       "    </tr>\n",
       "    <tr>\n",
       "      <th>2147</th>\n",
       "      <td>605598.SH</td>\n",
       "      <td>605598</td>\n",
       "      <td>上海港湾</td>\n",
       "      <td>上海</td>\n",
       "      <td>建筑工程</td>\n",
       "      <td>主板</td>\n",
       "      <td>20210917</td>\n",
       "    </tr>\n",
       "    <tr>\n",
       "      <th>2148</th>\n",
       "      <td>605599.SH</td>\n",
       "      <td>605599</td>\n",
       "      <td>菜百股份</td>\n",
       "      <td>北京</td>\n",
       "      <td>黄金</td>\n",
       "      <td>主板</td>\n",
       "      <td>20210909</td>\n",
       "    </tr>\n",
       "  </tbody>\n",
       "</table>\n",
       "<p>2149 rows × 7 columns</p>\n",
       "</div>"
      ],
      "text/plain": [
       "        ts_code  symbol  name area industry market list_date\n",
       "0     000001.SZ  000001  平安银行   深圳       银行     主板  19910403\n",
       "1     000002.SZ  000002   万科A   深圳     全国地产     主板  19910129\n",
       "2     000004.SZ  000004  ST国华   深圳     软件服务     主板  19910114\n",
       "3     000005.SZ  000005  ST星源   深圳     环境保护     主板  19901210\n",
       "4     000006.SZ  000006  深振业A   深圳     区域地产     主板  19920427\n",
       "...         ...     ...   ...  ...      ...    ...       ...\n",
       "2144  605580.SH  605580  恒盛能源   浙江     供气供热     主板  20210819\n",
       "2145  605588.SH  605588  冠石科技   江苏      半导体     主板  20210812\n",
       "2146  605589.SH  605589  圣泉集团   山东     化工原料     主板  20210810\n",
       "2147  605598.SH  605598  上海港湾   上海     建筑工程     主板  20210917\n",
       "2148  605599.SH  605599  菜百股份   北京       黄金     主板  20210909\n",
       "\n",
       "[2149 rows x 7 columns]"
      ]
     },
     "execution_count": 12,
     "metadata": {},
     "output_type": "execute_result"
    }
   ],
   "source": [
    "stock_list"
   ]
  },
  {
   "cell_type": "code",
   "execution_count": 33,
   "metadata": {},
   "outputs": [
    {
     "data": {
      "text/plain": [
       "0       0.0000\n",
       "1      -0.8892\n",
       "2       0.4058\n",
       "3      -1.2821\n",
       "4       0.7264\n",
       "        ...   \n",
       "192    10.0187\n",
       "193     9.9932\n",
       "194    10.0151\n",
       "195    10.0249\n",
       "196    44.0334\n",
       "Name: pct_chg, Length: 197, dtype: float64"
      ]
     },
     "execution_count": 33,
     "metadata": {},
     "output_type": "execute_result"
    }
   ],
   "source": [
    "df = pro.daily(ts_code='605580.SH', start_date='20210101', end_date='20220616')\n",
    "df[\"pct_chg\"]"
   ]
  },
  {
   "cell_type": "code",
   "execution_count": 65,
   "metadata": {},
   "outputs": [
    {
     "name": "stdout",
     "output_type": "stream",
     "text": [
      "24\n",
      "74\n",
      "149\n",
      "156\n",
      "161\n",
      "171\n",
      "184\n",
      "191\n",
      "192\n",
      "193\n",
      "194\n",
      "195\n",
      "196\n"
     ]
    }
   ],
   "source": [
    "counter = []\n",
    "start, end = 0, 0\n",
    "length = df[df[\"pct_chg\"] > 9].index\n",
    "for n in range(:\n",
    "    if last_n is None:\n",
    "        last_n = n\n",
    "        continue\n",
    "    if n - last_n == 1:\n",
    "        good +="
   ]
  },
  {
   "cell_type": "code",
   "execution_count": 75,
   "metadata": {},
   "outputs": [
    {
     "data": {
      "text/plain": [
       "13"
      ]
     },
     "execution_count": 75,
     "metadata": {},
     "output_type": "execute_result"
    }
   ],
   "source": [
    "df[df[\"pct_chg\"] > 9].index.size"
   ]
  },
  {
   "cell_type": "code",
   "execution_count": 55,
   "metadata": {},
   "outputs": [
    {
     "data": {
      "text/plain": [
       "-0.9127475247524778"
      ]
     },
     "execution_count": 55,
     "metadata": {},
     "output_type": "execute_result"
    }
   ],
   "source": [
    "current = sum(df[20:21]['close'])\n",
    "avg = np.average(df[20:25]['close'])\n",
    "(current - avg) / avg * 100"
   ]
  },
  {
   "cell_type": "code",
   "execution_count": 48,
   "metadata": {},
   "outputs": [],
   "source": [
    "import os"
   ]
  },
  {
   "cell_type": "code",
   "execution_count": 50,
   "metadata": {},
   "outputs": [],
   "source": [
    "df.get(20)"
   ]
  },
  {
   "cell_type": "code",
   "execution_count": null,
   "metadata": {},
   "outputs": [],
   "source": []
  }
 ],
 "metadata": {
  "kernelspec": {
   "display_name": "Python 3",
   "language": "python",
   "name": "python3"
  },
  "language_info": {
   "codemirror_mode": {
    "name": "ipython",
    "version": 3
   },
   "file_extension": ".py",
   "mimetype": "text/x-python",
   "name": "python",
   "nbconvert_exporter": "python",
   "pygments_lexer": "ipython3",
   "version": "3.7.0"
  }
 },
 "nbformat": 4,
 "nbformat_minor": 4
}
